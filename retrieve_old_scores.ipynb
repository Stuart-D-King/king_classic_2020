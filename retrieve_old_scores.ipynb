{
 "cells": [
  {
   "cell_type": "code",
   "execution_count": 9,
   "metadata": {
    "collapsed": true
   },
   "outputs": [],
   "source": [
    "import os\n",
    "import pandas as pd\n",
    "import numpy as np\n",
    "import boto3\n",
    "import pickle"
   ]
  },
  {
   "cell_type": "code",
   "execution_count": 10,
   "metadata": {
    "collapsed": false
   },
   "outputs": [],
   "source": [
    "key = os.environ.get('AWS_ACCESS_KEY_ID')\n",
    "secret = os.environ.get('AWS_SECRET_ACCESS_KEY')"
   ]
  },
  {
   "cell_type": "code",
   "execution_count": 11,
   "metadata": {
    "collapsed": true
   },
   "outputs": [],
   "source": [
    "bucket = 'king-classic-2020'\n",
    "golfer = 'patrick-hannahan'\n",
    "courses = [\"Lake Jovita - North\", 'Lake Jovita - South', 'World Woods - Rolling Oaks', \\\n",
    "          'World Woods - Pine Barrens', \"Southern Hills Plantation - Morning\", \\\n",
    "          'Southern Hills Plantation - Afternoon']"
   ]
  },
  {
   "cell_type": "code",
   "execution_count": 12,
   "metadata": {
    "collapsed": true
   },
   "outputs": [],
   "source": [
    "s3 = boto3.resource('s3',\n",
    "    region_name='us-west-2',\n",
    "    aws_access_key_id=key,\n",
    "    aws_secret_access_key=secret)"
   ]
  },
  {
   "cell_type": "code",
   "execution_count": 13,
   "metadata": {
    "collapsed": false
   },
   "outputs": [
    {
     "name": "stdout",
     "output_type": "stream",
     "text": [
      "s3.ObjectSummary(bucket_name='king-classic-2020', key='pkl-files/alex-king.pkl')\n",
      "s3.ObjectSummary(bucket_name='king-classic-2020', key='pkl-files/andy-tapper.pkl')\n",
      "s3.ObjectSummary(bucket_name='king-classic-2020', key='pkl-files/bobby-jovanov.pkl')\n",
      "s3.ObjectSummary(bucket_name='king-classic-2020', key='pkl-files/chris-marsh.pkl')\n",
      "s3.ObjectSummary(bucket_name='king-classic-2020', key='pkl-files/cooper-stainbrook.pkl')\n",
      "s3.ObjectSummary(bucket_name='king-classic-2020', key='pkl-files/jeff-veness.pkl')\n",
      "s3.ObjectSummary(bucket_name='king-classic-2020', key='pkl-files/jerry-king.pkl')\n",
      "s3.ObjectSummary(bucket_name='king-classic-2020', key='pkl-files/josh-duckett.pkl')\n",
      "s3.ObjectSummary(bucket_name='king-classic-2020', key='pkl-files/justin-casson.pkl')\n",
      "s3.ObjectSummary(bucket_name='king-classic-2020', key='pkl-files/patrick-hannahan.pkl')\n",
      "s3.ObjectSummary(bucket_name='king-classic-2020', key='pkl-files/reggie-sherrill.pkl')\n",
      "s3.ObjectSummary(bucket_name='king-classic-2020', key='pkl-files/stuart-king.pkl')\n",
      "s3.ObjectSummary(bucket_name='king-classic-2020', key='pkl-files/zach-taylor.pkl')\n"
     ]
    }
   ],
   "source": [
    "kcBucket = s3.Bucket(bucket)\n",
    "\n",
    "for obj in kcBucket.objects.filter(Prefix='pkl-files'):\n",
    "    print(obj)"
   ]
  },
  {
   "cell_type": "code",
   "execution_count": 14,
   "metadata": {
    "collapsed": false
   },
   "outputs": [],
   "source": [
    "s3client = boto3.client('s3',\n",
    "    region_name='us-west-2',\n",
    "    aws_access_key_id=key, \n",
    "    aws_secret_access_key=secret)\n",
    "\n",
    "response = s3client.get_object(Bucket=bucket, Key='pkl-files/{}.pkl'.format(golfer))\n",
    "\n",
    "body = response['Body'].read()\n",
    "data = pickle.loads(body)"
   ]
  },
  {
   "cell_type": "code",
   "execution_count": 15,
   "metadata": {
    "collapsed": false
   },
   "outputs": [
    {
     "data": {
      "text/plain": [
       "king_classic_pkling.Player"
      ]
     },
     "execution_count": 15,
     "metadata": {},
     "output_type": "execute_result"
    }
   ],
   "source": [
    "type(data)"
   ]
  },
  {
   "cell_type": "code",
   "execution_count": 16,
   "metadata": {
    "collapsed": false
   },
   "outputs": [
    {
     "name": "stdout",
     "output_type": "stream",
     "text": [
      "Lake Jovita - North: 90\n",
      "Lake Jovita - South: 91\n",
      "World Woods - Rolling Oaks: 82\n",
      "World Woods - Pine Barrens: 85\n",
      "Southern Hills Plantation - Morning: 83\n",
      "Southern Hills Plantation - Afternoon: 81\n"
     ]
    }
   ],
   "source": [
    "for c in courses:\n",
    "    print('{}: {}'.format(c, data.calc_course_score(c)))"
   ]
  },
  {
   "cell_type": "code",
   "execution_count": null,
   "metadata": {
    "collapsed": true
   },
   "outputs": [],
   "source": []
  }
 ],
 "metadata": {
  "kernelspec": {
   "display_name": "Python 3",
   "language": "python",
   "name": "python3"
  },
  "language_info": {
   "codemirror_mode": {
    "name": "ipython",
    "version": 3
   },
   "file_extension": ".py",
   "mimetype": "text/x-python",
   "name": "python",
   "nbconvert_exporter": "python",
   "pygments_lexer": "ipython3",
   "version": "3.6.2"
  }
 },
 "nbformat": 4,
 "nbformat_minor": 2
}
